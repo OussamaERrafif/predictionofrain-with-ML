{
  "nbformat": 4,
  "nbformat_minor": 0,
  "metadata": {
    "colab": {
      "provenance": []
    },
    "kernelspec": {
      "name": "python3",
      "display_name": "Python 3"
    },
    "language_info": {
      "name": "python"
    }
  },
  "cells": [
    {
      "cell_type": "markdown",
      "source": [
        "<h1>Machine Learning for Weather Prediction using Australian Bureau of Meteorology Data</h1>\n",
        "\n",
        "<p>Welcome to this machine learning notebook, where we will explore the fascinating world of weather prediction using data from the Australian Bureau of Meteorology. The dataset we'll be working with is sourced from the Bureau of Meteorology's \"real-time\" system, providing valuable observations on various weather parameters.</p>\n",
        "\n",
        "<h2>Data Availability and Quality</h2>\n",
        "<p>The observations in this dataset are primarily generated and managed automatically, with some degree of quality checking. Despite these efforts, it is essential to remain cautious as erroneous values may still appear. At times, certain observations might be missing due to various reasons. For example, missing daily maximum and minimum temperatures, rainfall, or evaporation values may lead to the next provided value being accumulated over several days instead of a single day. Detecting such cases reliably can be challenging for an automated system.</p>\n",
        "\n",
        "<h2>Summary Statistics</h2>\n",
        "<p>The summary statistics, including mean, lowest, highest, and total values, have been calculated using the available data at the time of preparation. Note that statistics are calculated only when it makes sense to do so. For instance, \"total maximum temperature\" and \"mean maximum wind gust\" are not calculated, while \"total rainfall\" and \"mean minimum temperature\" are included.</p>\n",
        "\n",
        "<h2>Extreme Values</h2>\n",
        "<p>In the dataset, extreme values for each field are indicated visually. The lowest value is shown in blue, and the highest value is shown in red. Additionally, for wind-related data, a hash mark (#) represents multiple occurrences of a certain wind speed from different directions. The direction of the highest (or lowest) wind speed is displayed, not the \"highest\" direction.</p>\n",
        "\n",
        "<h2>Data Source and Updates</h2>\n",
        "<p>The original source of the data is the Australian Government's Bureau of Meteorology. To access the latest data, you can visit <a href=\"http://www.bom.gov.au/climate/dwo/\">Bureau of Meteorology Climate Data</a>. The dataset used here has additional columns such as 'RainToday,' and our target variable is 'RainTomorrow.' This information was gathered from the Rattle platform at <a href=\"https://bitbucket.org/kayontoga/rattle/src/master/data/weatherAUS.RData\">Rattle Weather Data</a>.</p>\n",
        "\n",
        "<p>In this notebook, we will employ machine learning techniques to analyze weather patterns and build a predictive model to forecast whether it will rain tomorrow based on various meteorological features. Let's dive into the world of data exploration, model training, and evaluation to gain valuable insights into weather prediction.</p>\n"
      ],
      "metadata": {
        "id": "wGEp5FNswlZ_"
      }
    },
    {
      "cell_type": "markdown",
      "source": [
        "<h1>Imports required libraries:</h1>\n",
        "<p> pandas, scikit-learn, numpy, matplotlib, and sklearn.metrics.</p>\n",
        "<p>Applies logistic regression, linear regression, k-nearest neighbors, decision tree, and SVM classifiers with grid search.</p>\n",
        "<p>Computes evaluation metrics: Jaccard score, F1 score, and log loss.</p>\n",
        "<p>Plots a confusion matrix and calculates accuracy.</p>\n"
      ],
      "metadata": {
        "id": "6vUQD0wNy-TI"
      }
    },
    {
      "cell_type": "code",
      "source": [
        "import pandas as pd\n",
        "from sklearn.linear_model import LogisticRegression\n",
        "from sklearn.linear_model import LinearRegression\n",
        "from sklearn import preprocessing\n",
        "import numpy as np\n",
        "from sklearn.neighbors import KNeighborsClassifier\n",
        "from sklearn.model_selection import GridSearchCV\n",
        "from sklearn.model_selection import train_test_split\n",
        "from sklearn.neighbors import KNeighborsClassifier\n",
        "from sklearn.tree import DecisionTreeClassifier\n",
        "from sklearn import svm\n",
        "from sklearn.metrics import jaccard_score\n",
        "from sklearn.metrics import f1_score\n",
        "from sklearn.metrics import log_loss\n",
        "import matplotlib.pyplot as plt\n",
        "from sklearn.metrics import confusion_matrix, accuracy_score\n",
        "import sklearn.metrics as metrics"
      ],
      "metadata": {
        "id": "db5H6uLLy_bF"
      },
      "execution_count": 1,
      "outputs": []
    },
    {
      "cell_type": "markdown",
      "source": [
        "<h1>Data Loading and Initial Exploration</h1>\n",
        "<p>Load weather data from a CSV file and examine the first few rows of the dataset.</p>\n"
      ],
      "metadata": {
        "id": "Adx4Cj-4zB_P"
      }
    },
    {
      "cell_type": "code",
      "source": [
        "df = pd.read_csv('https://cf-courses-data.s3.us.cloud-object-storage.appdomain.cloud/IBMDeveloperSkillsNetwork-ML0101EN-SkillUp/labs/ML-FinalAssignment/Weather_Data.csv')\n",
        "\n",
        "df.head()"
      ],
      "metadata": {
        "colab": {
          "base_uri": "https://localhost:8080/",
          "height": 280
        },
        "id": "nJi0T9zHz8Re",
        "outputId": "010e0a49-6648-4b65-ebf6-d2e252e91c03"
      },
      "execution_count": 2,
      "outputs": [
        {
          "output_type": "execute_result",
          "data": {
            "text/plain": [
              "       Date  MinTemp  MaxTemp  Rainfall  Evaporation  Sunshine WindGustDir  \\\n",
              "0  2/1/2008     19.5     22.4      15.6          6.2       0.0           W   \n",
              "1  2/2/2008     19.5     25.6       6.0          3.4       2.7           W   \n",
              "2  2/3/2008     21.6     24.5       6.6          2.4       0.1           W   \n",
              "3  2/4/2008     20.2     22.8      18.8          2.2       0.0           W   \n",
              "4  2/5/2008     19.7     25.7      77.4          4.8       0.0           W   \n",
              "\n",
              "   WindGustSpeed WindDir9am WindDir3pm  ...  Humidity9am  Humidity3pm  \\\n",
              "0             41          S        SSW  ...           92           84   \n",
              "1             41          W          E  ...           83           73   \n",
              "2             41        ESE        ESE  ...           88           86   \n",
              "3             41        NNE          E  ...           83           90   \n",
              "4             41        NNE          W  ...           88           74   \n",
              "\n",
              "   Pressure9am  Pressure3pm  Cloud9am  Cloud3pm  Temp9am  Temp3pm  RainToday  \\\n",
              "0       1017.6       1017.4         8         8     20.7     20.9        Yes   \n",
              "1       1017.9       1016.4         7         7     22.4     24.8        Yes   \n",
              "2       1016.7       1015.6         7         8     23.5     23.0        Yes   \n",
              "3       1014.2       1011.8         8         8     21.4     20.9        Yes   \n",
              "4       1008.3       1004.8         8         8     22.5     25.5        Yes   \n",
              "\n",
              "   RainTomorrow  \n",
              "0           Yes  \n",
              "1           Yes  \n",
              "2           Yes  \n",
              "3           Yes  \n",
              "4           Yes  \n",
              "\n",
              "[5 rows x 22 columns]"
            ],
            "text/html": [
              "\n",
              "\n",
              "  <div id=\"df-a97772d1-9294-48e1-90d6-f231542b65a5\">\n",
              "    <div class=\"colab-df-container\">\n",
              "      <div>\n",
              "<style scoped>\n",
              "    .dataframe tbody tr th:only-of-type {\n",
              "        vertical-align: middle;\n",
              "    }\n",
              "\n",
              "    .dataframe tbody tr th {\n",
              "        vertical-align: top;\n",
              "    }\n",
              "\n",
              "    .dataframe thead th {\n",
              "        text-align: right;\n",
              "    }\n",
              "</style>\n",
              "<table border=\"1\" class=\"dataframe\">\n",
              "  <thead>\n",
              "    <tr style=\"text-align: right;\">\n",
              "      <th></th>\n",
              "      <th>Date</th>\n",
              "      <th>MinTemp</th>\n",
              "      <th>MaxTemp</th>\n",
              "      <th>Rainfall</th>\n",
              "      <th>Evaporation</th>\n",
              "      <th>Sunshine</th>\n",
              "      <th>WindGustDir</th>\n",
              "      <th>WindGustSpeed</th>\n",
              "      <th>WindDir9am</th>\n",
              "      <th>WindDir3pm</th>\n",
              "      <th>...</th>\n",
              "      <th>Humidity9am</th>\n",
              "      <th>Humidity3pm</th>\n",
              "      <th>Pressure9am</th>\n",
              "      <th>Pressure3pm</th>\n",
              "      <th>Cloud9am</th>\n",
              "      <th>Cloud3pm</th>\n",
              "      <th>Temp9am</th>\n",
              "      <th>Temp3pm</th>\n",
              "      <th>RainToday</th>\n",
              "      <th>RainTomorrow</th>\n",
              "    </tr>\n",
              "  </thead>\n",
              "  <tbody>\n",
              "    <tr>\n",
              "      <th>0</th>\n",
              "      <td>2/1/2008</td>\n",
              "      <td>19.5</td>\n",
              "      <td>22.4</td>\n",
              "      <td>15.6</td>\n",
              "      <td>6.2</td>\n",
              "      <td>0.0</td>\n",
              "      <td>W</td>\n",
              "      <td>41</td>\n",
              "      <td>S</td>\n",
              "      <td>SSW</td>\n",
              "      <td>...</td>\n",
              "      <td>92</td>\n",
              "      <td>84</td>\n",
              "      <td>1017.6</td>\n",
              "      <td>1017.4</td>\n",
              "      <td>8</td>\n",
              "      <td>8</td>\n",
              "      <td>20.7</td>\n",
              "      <td>20.9</td>\n",
              "      <td>Yes</td>\n",
              "      <td>Yes</td>\n",
              "    </tr>\n",
              "    <tr>\n",
              "      <th>1</th>\n",
              "      <td>2/2/2008</td>\n",
              "      <td>19.5</td>\n",
              "      <td>25.6</td>\n",
              "      <td>6.0</td>\n",
              "      <td>3.4</td>\n",
              "      <td>2.7</td>\n",
              "      <td>W</td>\n",
              "      <td>41</td>\n",
              "      <td>W</td>\n",
              "      <td>E</td>\n",
              "      <td>...</td>\n",
              "      <td>83</td>\n",
              "      <td>73</td>\n",
              "      <td>1017.9</td>\n",
              "      <td>1016.4</td>\n",
              "      <td>7</td>\n",
              "      <td>7</td>\n",
              "      <td>22.4</td>\n",
              "      <td>24.8</td>\n",
              "      <td>Yes</td>\n",
              "      <td>Yes</td>\n",
              "    </tr>\n",
              "    <tr>\n",
              "      <th>2</th>\n",
              "      <td>2/3/2008</td>\n",
              "      <td>21.6</td>\n",
              "      <td>24.5</td>\n",
              "      <td>6.6</td>\n",
              "      <td>2.4</td>\n",
              "      <td>0.1</td>\n",
              "      <td>W</td>\n",
              "      <td>41</td>\n",
              "      <td>ESE</td>\n",
              "      <td>ESE</td>\n",
              "      <td>...</td>\n",
              "      <td>88</td>\n",
              "      <td>86</td>\n",
              "      <td>1016.7</td>\n",
              "      <td>1015.6</td>\n",
              "      <td>7</td>\n",
              "      <td>8</td>\n",
              "      <td>23.5</td>\n",
              "      <td>23.0</td>\n",
              "      <td>Yes</td>\n",
              "      <td>Yes</td>\n",
              "    </tr>\n",
              "    <tr>\n",
              "      <th>3</th>\n",
              "      <td>2/4/2008</td>\n",
              "      <td>20.2</td>\n",
              "      <td>22.8</td>\n",
              "      <td>18.8</td>\n",
              "      <td>2.2</td>\n",
              "      <td>0.0</td>\n",
              "      <td>W</td>\n",
              "      <td>41</td>\n",
              "      <td>NNE</td>\n",
              "      <td>E</td>\n",
              "      <td>...</td>\n",
              "      <td>83</td>\n",
              "      <td>90</td>\n",
              "      <td>1014.2</td>\n",
              "      <td>1011.8</td>\n",
              "      <td>8</td>\n",
              "      <td>8</td>\n",
              "      <td>21.4</td>\n",
              "      <td>20.9</td>\n",
              "      <td>Yes</td>\n",
              "      <td>Yes</td>\n",
              "    </tr>\n",
              "    <tr>\n",
              "      <th>4</th>\n",
              "      <td>2/5/2008</td>\n",
              "      <td>19.7</td>\n",
              "      <td>25.7</td>\n",
              "      <td>77.4</td>\n",
              "      <td>4.8</td>\n",
              "      <td>0.0</td>\n",
              "      <td>W</td>\n",
              "      <td>41</td>\n",
              "      <td>NNE</td>\n",
              "      <td>W</td>\n",
              "      <td>...</td>\n",
              "      <td>88</td>\n",
              "      <td>74</td>\n",
              "      <td>1008.3</td>\n",
              "      <td>1004.8</td>\n",
              "      <td>8</td>\n",
              "      <td>8</td>\n",
              "      <td>22.5</td>\n",
              "      <td>25.5</td>\n",
              "      <td>Yes</td>\n",
              "      <td>Yes</td>\n",
              "    </tr>\n",
              "  </tbody>\n",
              "</table>\n",
              "<p>5 rows × 22 columns</p>\n",
              "</div>\n",
              "      <button class=\"colab-df-convert\" onclick=\"convertToInteractive('df-a97772d1-9294-48e1-90d6-f231542b65a5')\"\n",
              "              title=\"Convert this dataframe to an interactive table.\"\n",
              "              style=\"display:none;\">\n",
              "\n",
              "  <svg xmlns=\"http://www.w3.org/2000/svg\" height=\"24px\"viewBox=\"0 0 24 24\"\n",
              "       width=\"24px\">\n",
              "    <path d=\"M0 0h24v24H0V0z\" fill=\"none\"/>\n",
              "    <path d=\"M18.56 5.44l.94 2.06.94-2.06 2.06-.94-2.06-.94-.94-2.06-.94 2.06-2.06.94zm-11 1L8.5 8.5l.94-2.06 2.06-.94-2.06-.94L8.5 2.5l-.94 2.06-2.06.94zm10 10l.94 2.06.94-2.06 2.06-.94-2.06-.94-.94-2.06-.94 2.06-2.06.94z\"/><path d=\"M17.41 7.96l-1.37-1.37c-.4-.4-.92-.59-1.43-.59-.52 0-1.04.2-1.43.59L10.3 9.45l-7.72 7.72c-.78.78-.78 2.05 0 2.83L4 21.41c.39.39.9.59 1.41.59.51 0 1.02-.2 1.41-.59l7.78-7.78 2.81-2.81c.8-.78.8-2.07 0-2.86zM5.41 20L4 18.59l7.72-7.72 1.47 1.35L5.41 20z\"/>\n",
              "  </svg>\n",
              "      </button>\n",
              "\n",
              "\n",
              "\n",
              "    <div id=\"df-4babdbbb-199b-459b-b475-f2e80c0897f7\">\n",
              "      <button class=\"colab-df-quickchart\" onclick=\"quickchart('df-4babdbbb-199b-459b-b475-f2e80c0897f7')\"\n",
              "              title=\"Suggest charts.\"\n",
              "              style=\"display:none;\">\n",
              "\n",
              "<svg xmlns=\"http://www.w3.org/2000/svg\" height=\"24px\"viewBox=\"0 0 24 24\"\n",
              "     width=\"24px\">\n",
              "    <g>\n",
              "        <path d=\"M19 3H5c-1.1 0-2 .9-2 2v14c0 1.1.9 2 2 2h14c1.1 0 2-.9 2-2V5c0-1.1-.9-2-2-2zM9 17H7v-7h2v7zm4 0h-2V7h2v10zm4 0h-2v-4h2v4z\"/>\n",
              "    </g>\n",
              "</svg>\n",
              "      </button>\n",
              "    </div>\n",
              "\n",
              "<style>\n",
              "  .colab-df-quickchart {\n",
              "    background-color: #E8F0FE;\n",
              "    border: none;\n",
              "    border-radius: 50%;\n",
              "    cursor: pointer;\n",
              "    display: none;\n",
              "    fill: #1967D2;\n",
              "    height: 32px;\n",
              "    padding: 0 0 0 0;\n",
              "    width: 32px;\n",
              "  }\n",
              "\n",
              "  .colab-df-quickchart:hover {\n",
              "    background-color: #E2EBFA;\n",
              "    box-shadow: 0px 1px 2px rgba(60, 64, 67, 0.3), 0px 1px 3px 1px rgba(60, 64, 67, 0.15);\n",
              "    fill: #174EA6;\n",
              "  }\n",
              "\n",
              "  [theme=dark] .colab-df-quickchart {\n",
              "    background-color: #3B4455;\n",
              "    fill: #D2E3FC;\n",
              "  }\n",
              "\n",
              "  [theme=dark] .colab-df-quickchart:hover {\n",
              "    background-color: #434B5C;\n",
              "    box-shadow: 0px 1px 3px 1px rgba(0, 0, 0, 0.15);\n",
              "    filter: drop-shadow(0px 1px 2px rgba(0, 0, 0, 0.3));\n",
              "    fill: #FFFFFF;\n",
              "  }\n",
              "</style>\n",
              "\n",
              "    <script>\n",
              "      async function quickchart(key) {\n",
              "        const containerElement = document.querySelector('#' + key);\n",
              "        const charts = await google.colab.kernel.invokeFunction(\n",
              "            'suggestCharts', [key], {});\n",
              "      }\n",
              "    </script>\n",
              "\n",
              "      <script>\n",
              "\n",
              "function displayQuickchartButton(domScope) {\n",
              "  let quickchartButtonEl =\n",
              "    domScope.querySelector('#df-4babdbbb-199b-459b-b475-f2e80c0897f7 button.colab-df-quickchart');\n",
              "  quickchartButtonEl.style.display =\n",
              "    google.colab.kernel.accessAllowed ? 'block' : 'none';\n",
              "}\n",
              "\n",
              "        displayQuickchartButton(document);\n",
              "      </script>\n",
              "      <style>\n",
              "    .colab-df-container {\n",
              "      display:flex;\n",
              "      flex-wrap:wrap;\n",
              "      gap: 12px;\n",
              "    }\n",
              "\n",
              "    .colab-df-convert {\n",
              "      background-color: #E8F0FE;\n",
              "      border: none;\n",
              "      border-radius: 50%;\n",
              "      cursor: pointer;\n",
              "      display: none;\n",
              "      fill: #1967D2;\n",
              "      height: 32px;\n",
              "      padding: 0 0 0 0;\n",
              "      width: 32px;\n",
              "    }\n",
              "\n",
              "    .colab-df-convert:hover {\n",
              "      background-color: #E2EBFA;\n",
              "      box-shadow: 0px 1px 2px rgba(60, 64, 67, 0.3), 0px 1px 3px 1px rgba(60, 64, 67, 0.15);\n",
              "      fill: #174EA6;\n",
              "    }\n",
              "\n",
              "    [theme=dark] .colab-df-convert {\n",
              "      background-color: #3B4455;\n",
              "      fill: #D2E3FC;\n",
              "    }\n",
              "\n",
              "    [theme=dark] .colab-df-convert:hover {\n",
              "      background-color: #434B5C;\n",
              "      box-shadow: 0px 1px 3px 1px rgba(0, 0, 0, 0.15);\n",
              "      filter: drop-shadow(0px 1px 2px rgba(0, 0, 0, 0.3));\n",
              "      fill: #FFFFFF;\n",
              "    }\n",
              "  </style>\n",
              "\n",
              "      <script>\n",
              "        const buttonEl =\n",
              "          document.querySelector('#df-a97772d1-9294-48e1-90d6-f231542b65a5 button.colab-df-convert');\n",
              "        buttonEl.style.display =\n",
              "          google.colab.kernel.accessAllowed ? 'block' : 'none';\n",
              "\n",
              "        async function convertToInteractive(key) {\n",
              "          const element = document.querySelector('#df-a97772d1-9294-48e1-90d6-f231542b65a5');\n",
              "          const dataTable =\n",
              "            await google.colab.kernel.invokeFunction('convertToInteractive',\n",
              "                                                     [key], {});\n",
              "          if (!dataTable) return;\n",
              "\n",
              "          const docLinkHtml = 'Like what you see? Visit the ' +\n",
              "            '<a target=\"_blank\" href=https://colab.research.google.com/notebooks/data_table.ipynb>data table notebook</a>'\n",
              "            + ' to learn more about interactive tables.';\n",
              "          element.innerHTML = '';\n",
              "          dataTable['output_type'] = 'display_data';\n",
              "          await google.colab.output.renderOutput(dataTable, element);\n",
              "          const docLink = document.createElement('div');\n",
              "          docLink.innerHTML = docLinkHtml;\n",
              "          element.appendChild(docLink);\n",
              "        }\n",
              "      </script>\n",
              "    </div>\n",
              "  </div>\n"
            ]
          },
          "metadata": {},
          "execution_count": 2
        }
      ]
    },
    {
      "cell_type": "markdown",
      "source": [
        "###Data Preprocessing: One-Hot Encoding and Binary Replacement\n",
        "<p>Perform one-hot encoding on categorical columns 'RainToday', 'WindGustDir', 'WindDir9am', and 'WindDir3pm' using 'get_dummies()' function.</p>\n",
        "<p>Replace binary categorical values 'No' and 'Yes' with 0 and 1 respectively using 'replace()' method.</p>"
      ],
      "metadata": {
        "id": "g0WwLuHs0Btr"
      }
    },
    {
      "cell_type": "code",
      "source": [
        "df_sydney_processed = pd.get_dummies(data=df, columns=['RainToday', 'WindGustDir', 'WindDir9am', 'WindDir3pm'])\n",
        "df_sydney_processed.replace(['No', 'Yes'], [0,1], inplace=True)"
      ],
      "metadata": {
        "id": "yzJVZQLS0JpS"
      },
      "execution_count": 3,
      "outputs": []
    },
    {
      "cell_type": "markdown",
      "source": [
        "### Training Data and Test Data"
      ],
      "metadata": {
        "id": "jHvT5UEi0cIg"
      }
    },
    {
      "cell_type": "code",
      "source": [
        "df_sydney_processed.drop('Date',axis=1,inplace=True)\n",
        "df_sydney_processed = df_sydney_processed.astype(float)\n",
        "features = df_sydney_processed.drop(columns='RainTomorrow', axis=1)\n",
        "Y = df_sydney_processed['RainTomorrow']"
      ],
      "metadata": {
        "id": "KC57hZFO05rj"
      },
      "execution_count": 4,
      "outputs": []
    },
    {
      "cell_type": "markdown",
      "source": [
        "### Linear Regression"
      ],
      "metadata": {
        "id": "fVAWrGiX062C"
      }
    },
    {
      "cell_type": "markdown",
      "source": [
        "<h1>Data Splitting: Train-Test Split</h1>\n",
        "<p>Split the 'features' and 'Y' data into training and testing sets using 'train_test_split()' function with a test size of 20% and random state set to 10.</p>\n"
      ],
      "metadata": {
        "id": "4am5uct-1R5-"
      }
    },
    {
      "cell_type": "code",
      "source": [
        "x_train, x_test, y_train, y_test = train_test_split(features,Y,test_size = 0.2, random_state = 10)\n",
        "print('Train set:', x_train.shape, y_train.shape)\n",
        "print('Test set:', x_test.shape, y_test.shape)"
      ],
      "metadata": {
        "colab": {
          "base_uri": "https://localhost:8080/",
          "height": 0
        },
        "id": "ksCxgdg51VQy",
        "outputId": "c4c987e7-a4f4-4961-c3a5-e125e17cdc81"
      },
      "execution_count": 5,
      "outputs": [
        {
          "output_type": "stream",
          "name": "stdout",
          "text": [
            "Train set: (2616, 66) (2616,)\n",
            "Test set: (655, 66) (655,)\n"
          ]
        }
      ]
    },
    {
      "cell_type": "markdown",
      "source": [
        "<h1>Model Training: Logistic Regression</h1>\n",
        "<p>Train a Logistic Regression model named 'LinearReg' with regularization strength C=0.01 and the 'liblinear' solver using the training data 'x_train' and 'y_train'.</p>\n"
      ],
      "metadata": {
        "id": "i9zcAyiv1iGR"
      }
    },
    {
      "cell_type": "code",
      "source": [
        "LinearReg = LogisticRegression(C=0.01, solver='liblinear').fit(x_train,y_train)"
      ],
      "metadata": {
        "id": "HipudhWD1gii"
      },
      "execution_count": 6,
      "outputs": []
    },
    {
      "cell_type": "markdown",
      "source": [
        "<h1>Model Prediction</h1>\n",
        "<p>Make predictions using the trained Logistic Regression model ('LinearReg') on the test data ('x_test'). The predicted values are stored in the 'predictions' variable.</p>\n"
      ],
      "metadata": {
        "id": "WQdOheSp1kpZ"
      }
    },
    {
      "cell_type": "code",
      "source": [
        "predictions = LinearReg.predict(x_test)"
      ],
      "metadata": {
        "id": "0HBLtsb22Crb"
      },
      "execution_count": 7,
      "outputs": []
    },
    {
      "cell_type": "markdown",
      "source": [
        "<h1>Evaluation Metrics: Linear Regression Model</h1>\n",
        "<p>Compute evaluation metrics for the Linear Regression model.</p>\n",
        "<p><b>Mean Absolute Error (MAE)</b>: Calculate the mean absolute error between the actual and predicted values.</p>\n",
        "<p><b>Mean Squared Error (MSE)</b>: Calculate the mean squared error between the actual and predicted values.</p>\n",
        "<p><b>R-squared (R2) Score</b>: Evaluate the goodness of fit of the model on the test data.</p>\n"
      ],
      "metadata": {
        "id": "G_Mm7m4U2EdH"
      }
    },
    {
      "cell_type": "code",
      "source": [
        "from sklearn.metrics import r2_score\n",
        "LinearRegression_MAE = np.mean(np.absolute(predictions - y_test))\n",
        "LinearRegression_MSE = np.mean((predictions - y_test) ** 2)\n",
        "LinearRegression_R2 = r2_score(y_test , predictions)\n",
        "print(f\"MAE = {LinearRegression_MAE} MSE = {LinearRegression_MSE} R2 = {LinearRegression_R2}\")\n",
        "print(\"Residual sum of squares: %.2f\" %np.mean((predictions - y_test)**2))\n",
        "print('Variance scor: %.2f' % LinearReg.score(x_train, y_train))"
      ],
      "metadata": {
        "colab": {
          "base_uri": "https://localhost:8080/",
          "height": 0
        },
        "id": "5mszjEYA2OiV",
        "outputId": "a86f89cf-d4ed-4350-8e5a-7fa08dc11405"
      },
      "execution_count": 8,
      "outputs": [
        {
          "output_type": "stream",
          "name": "stdout",
          "text": [
            "MAE = 0.15725190839694655 MSE = 0.15725190839694655 R2 = 0.2215337394996767\n",
            "Residual sum of squares: 0.16\n",
            "Variance scor: 0.84\n"
          ]
        }
      ]
    },
    {
      "cell_type": "markdown",
      "source": [
        "###KNN"
      ],
      "metadata": {
        "id": "KZC0jcuU8CWE"
      }
    },
    {
      "cell_type": "markdown",
      "source": [
        "<h1>Model Training: K-Nearest Neighbors (KNN)</h1>\n",
        "<p>Train a K-Nearest Neighbors (KNN) model named 'KNN' with 'n_neighbors' set to 4 using the training data 'x_train' and 'y_train'.</p>\n"
      ],
      "metadata": {
        "id": "5pFsposx8EDe"
      }
    },
    {
      "cell_type": "code",
      "source": [
        "KNN = KNeighborsClassifier(n_neighbors = 4).fit(x_train,y_train)"
      ],
      "metadata": {
        "id": "5ydzNLKU8ODP"
      },
      "execution_count": 9,
      "outputs": []
    },
    {
      "cell_type": "markdown",
      "source": [
        "<h1>Model Prediction</h1>\n",
        "<p>Make predictions using the trained K-Nearest Neighbors (KNN) model ('KNN') on the test data ('x_test'). The predicted values are stored in the 'predictions' variable.</p>\n"
      ],
      "metadata": {
        "id": "CeAheyUI8UR5"
      }
    },
    {
      "cell_type": "code",
      "source": [
        "predictions = KNN.predict(x_test)"
      ],
      "metadata": {
        "id": "xtajv01t8Wi6"
      },
      "execution_count": 10,
      "outputs": []
    },
    {
      "cell_type": "markdown",
      "source": [
        "<h1>Evaluation Metrics: K-Nearest Neighbors (KNN) Model</h1>\n",
        "<p>Compute evaluation metrics for the K-Nearest Neighbors (KNN) model.</p>\n",
        "<p><b>Accuracy Score</b>: Calculate the accuracy of the model's predictions compared to the actual target values on the test data.</p>\n",
        "<p><b>F1 Score</b>: Calculate the F1 score, which considers both precision and recall, for the KNN model's performance.</p>\n",
        "<p><b>Jaccard Index</b>: Calculate the Jaccard index, which measures the similarity between predicted and actual classes.</p>"
      ],
      "metadata": {
        "id": "b8MF13B98Xii"
      }
    },
    {
      "cell_type": "code",
      "source": [
        "KNN_Accuracy_Score =accuracy_score(y_test,predictions)\n",
        "KNN_JaccardIndex = jaccard_score(y_test,predictions)\n",
        "KNN_F1_Score = f1_score(y_test,predictions)\n",
        "print(f\" accuracy score : {KNN_Accuracy_Score} , F1 score : {KNN_F1_Score} , jaccordindex: {KNN_JaccardIndex}\")"
      ],
      "metadata": {
        "colab": {
          "base_uri": "https://localhost:8080/",
          "height": 0
        },
        "id": "LsjQyyD98hAa",
        "outputId": "70f03bad-6fc2-492c-f37a-de0e29f19904"
      },
      "execution_count": 11,
      "outputs": [
        {
          "output_type": "stream",
          "name": "stdout",
          "text": [
            " accuracy score : 0.8183206106870229 , F1 score : 0.5966101694915255 , jaccordindex: 0.4251207729468599\n"
          ]
        }
      ]
    },
    {
      "cell_type": "markdown",
      "source": [
        "### Decision Tree"
      ],
      "metadata": {
        "id": "LGlfaC3x9ACe"
      }
    },
    {
      "cell_type": "markdown",
      "source": [
        "<h1>Model Training: Decision Tree Classifier</h1>\n",
        "<p>Train a Decision Tree Classifier model named 'Tree' using the training data 'x_train' and 'y_train'.</p>\n"
      ],
      "metadata": {
        "id": "HuDIOEcx9M6t"
      }
    },
    {
      "cell_type": "code",
      "source": [
        "Tree = DecisionTreeClassifier().fit(x_train,y_train)"
      ],
      "metadata": {
        "id": "f3Ela6mH9ROp"
      },
      "execution_count": 12,
      "outputs": []
    },
    {
      "cell_type": "markdown",
      "source": [
        "<h1>Model Prediction</h1>\n",
        "<p>Make predictions using the trained Decision Tree Classifier model ('Tree') on the test data ('x_test'). The predicted values are stored in the 'predictions' variable.</p>"
      ],
      "metadata": {
        "id": "m5eSjy-99l_w"
      }
    },
    {
      "cell_type": "code",
      "source": [
        "predictions = Tree.predict(x_test)"
      ],
      "metadata": {
        "id": "z2wm5H3B9wjc"
      },
      "execution_count": 13,
      "outputs": []
    },
    {
      "cell_type": "markdown",
      "source": [
        "<h1>Evaluation Metrics: Decision Tree Classifier</h1>\n",
        "<p>Compute evaluation metrics for the Decision Tree Classifier model.</p>\n",
        "<p><b>Accuracy Score</b>: Calculate the accuracy of the model's predictions compared to the actual target values on the test data.</p>\n",
        "<p><b>F1 Score</b>: Calculate the F1 score, which considers both precision and recall, for the Decision Tree model's performance.</p>\n",
        "<p><b>Jaccard Index</b>: Calculate the Jaccard index, which measures the similarity between predicted and actual classes.</p>\n"
      ],
      "metadata": {
        "id": "iWgtIFGS92CS"
      }
    },
    {
      "cell_type": "code",
      "source": [
        "Tree_Accuracy_Score = accuracy_score(y_test,predictions)\n",
        "Tree_JaccardIndex = jaccard_score(y_test,predictions)\n",
        "Tree_F1_Score = f1_score(y_test,predictions)\n",
        "print(f\"accuracy score : {Tree_Accuracy_Score} , jaccordindex : {Tree_JaccardIndex} , F1 score : {Tree_F1_Score}\")"
      ],
      "metadata": {
        "colab": {
          "base_uri": "https://localhost:8080/",
          "height": 0
        },
        "id": "bcUiEoIg-rrb",
        "outputId": "07432ac1-e606-412b-8c08-dcb5bc9cb7d6"
      },
      "execution_count": 14,
      "outputs": [
        {
          "output_type": "stream",
          "name": "stdout",
          "text": [
            "accuracy score : 0.7603053435114504 , jaccordindex : 0.4053030303030303 , F1 score : 0.5768194070080863\n"
          ]
        }
      ]
    },
    {
      "cell_type": "markdown",
      "source": [
        "### Logistic Regression\n"
      ],
      "metadata": {
        "id": "F6JlF5B3_ZaQ"
      }
    },
    {
      "cell_type": "markdown",
      "source": [
        "<h1>Data Splitting: Train-Test Split</h1>\n",
        "<p>Split the 'features' and 'Y' data into training and testing sets using 'train_test_split()' function with a test size of 20% and random state set to 1.</p>\n"
      ],
      "metadata": {
        "id": "R0e5Gt2H_mTb"
      }
    },
    {
      "cell_type": "code",
      "source": [
        "x_train, x_test, y_train, y_test = train_test_split(features,Y,test_size=0.2,random_state=1)"
      ],
      "metadata": {
        "id": "8twJdQcq_wT3"
      },
      "execution_count": 15,
      "outputs": []
    },
    {
      "cell_type": "markdown",
      "source": [
        "<h1>Model Training: Logistic Regression</h1>\n",
        "<p>Train a Logistic Regression model named 'LR' with the 'liblinear' solver using the training data 'x_train' and 'y_train'.</p>\n"
      ],
      "metadata": {
        "id": "U2DiOL9d_xxe"
      }
    },
    {
      "cell_type": "code",
      "source": [
        "LR = LogisticRegression(solver='liblinear').fit(x_train,y_train)"
      ],
      "metadata": {
        "id": "CyMW0ddu_9zq"
      },
      "execution_count": 16,
      "outputs": []
    },
    {
      "cell_type": "markdown",
      "source": [
        "<h1>Model Prediction</h1>\n",
        "<p>Make predictions using the trained Logistic Regression model ('LR') on the test data ('x_test'). The predicted values are stored in the 'predictions' variable.</p>\n"
      ],
      "metadata": {
        "id": "wdvUFiHfAQqo"
      }
    },
    {
      "cell_type": "code",
      "source": [
        "predictions = LR.predict(x_test)"
      ],
      "metadata": {
        "id": "4XxmUKgaA2ig"
      },
      "execution_count": 17,
      "outputs": []
    },
    {
      "cell_type": "markdown",
      "source": [
        "<h1>Evaluation Metrics: Logistic Regression</h1>\n",
        "<p><b>Accuracy Score:</b> Calculate the accuracy of the model's predictions compared to the actual target values on the test data.</p>\n",
        "<p><b>Jaccard Index:</b> Calculate the Jaccard index, which measures the similarity between predicted and actual classes.</p>\n",
        "<p><b>F1 Score:</b> Calculate the F1 score, which considers both precision and recall, for the Logistic Regression model's performance.</p>\n",
        "<p><b>Log Loss:</b> Calculate the logarithmic loss, also known as cross-entropy loss, for the Logistic Regression model's predictions.</p>\n"
      ],
      "metadata": {
        "id": "FihuqSHWA_JS"
      }
    },
    {
      "cell_type": "code",
      "source": [
        "LR_Accuracy_Score = accuracy_score(y_test,predictions)\n",
        "LR_JaccardIndex = jaccard_score(y_test,predictions)\n",
        "LR_F1_Score = f1_score(y_test,predictions)\n",
        "LR_Log_Loss = log_loss(y_test,predictions)\n",
        "print(f\"accuracy score : {LR_Accuracy_Score} , jaccordindex : {LR_JaccardIndex} , F1 score : {LR_F1_Score} , Log loss : {LR_Log_Loss}\")"
      ],
      "metadata": {
        "colab": {
          "base_uri": "https://localhost:8080/",
          "height": 0
        },
        "id": "xwypGcTuBABU",
        "outputId": "9c5774ed-05d4-47c6-989b-3ba64317eb6c"
      },
      "execution_count": 18,
      "outputs": [
        {
          "output_type": "stream",
          "name": "stdout",
          "text": [
            "accuracy score : 0.8366412213740458 , jaccordindex : 0.5091743119266054 , F1 score : 0.6747720364741641 , Log loss : 5.888047194863413\n"
          ]
        }
      ]
    },
    {
      "cell_type": "markdown",
      "source": [
        "### SVM"
      ],
      "metadata": {
        "id": "AINAbVP8B2AL"
      }
    },
    {
      "cell_type": "markdown",
      "source": [
        "<h1>Model Training: Support Vector Machine (SVM)</h1>\n",
        "<p>Train a Support Vector Machine (SVM) model named 'SVM' using the training data 'x_train' and 'y_train'.</p>"
      ],
      "metadata": {
        "id": "6U6g2QM6B6d1"
      }
    },
    {
      "cell_type": "code",
      "source": [
        "from sklearn.svm import SVC\n",
        "SVM = SVC().fit(x_train,y_train)"
      ],
      "metadata": {
        "id": "47K5Jr26B6jH"
      },
      "execution_count": 19,
      "outputs": []
    },
    {
      "cell_type": "markdown",
      "source": [
        "<h1>Model Prediction</h1>\n",
        "<p>Make predictions using the trained Support Vector Machine (SVM) model ('SVM') on the test data ('x_test'). The predicted values are stored in the 'predictions' variable.</p>"
      ],
      "metadata": {
        "id": "jW1ksFNeCSSg"
      }
    },
    {
      "cell_type": "code",
      "source": [
        "predictions = SVM.predict(x_test)"
      ],
      "metadata": {
        "id": "Atbx8AD4CSZg"
      },
      "execution_count": 20,
      "outputs": []
    },
    {
      "cell_type": "markdown",
      "source": [
        "<h1>Evaluation Metrics: Support Vector Machine (SVM)</h1>\n",
        "<p><b>Accuracy Score:</b> Calculate the accuracy of the model's predictions compared to the actual target values on the test data.</p>\n",
        "<p><b>Jaccard Index:</b> Calculate the Jaccard index, which measures the similarity between predicted and actual classes, for the SVM model's performance.</p>\n",
        "<p><b>F1 Score:</b> Calculate the F1 score, which considers both precision and recall, for the SVM model's performance.</p>\n"
      ],
      "metadata": {
        "id": "z3E9sz5DCW_b"
      }
    },
    {
      "cell_type": "code",
      "source": [
        "SVM_Accuracy_Score = accuracy_score(y_test,predictions)\n",
        "SVM_JaccardIndex = jaccard_score(y_test,predictions)\n",
        "SVM_F1_Score = f1_score(y_test,predictions)\n",
        "print(f\"accuracy score : {SVM_Accuracy_Score} , jaccordindex : {SVM_JaccardIndex} , F1 score : {SVM_F1_Score} \")"
      ],
      "metadata": {
        "colab": {
          "base_uri": "https://localhost:8080/",
          "height": 0
        },
        "id": "iGHgSXvqCXKS",
        "outputId": "a92b4853-fcd7-4e8c-9e86-ef091ad0e1ab"
      },
      "execution_count": 21,
      "outputs": [
        {
          "output_type": "stream",
          "name": "stdout",
          "text": [
            "accuracy score : 0.7221374045801526 , jaccordindex : 0.0 , F1 score : 0.0 \n"
          ]
        }
      ]
    },
    {
      "cell_type": "markdown",
      "source": [
        "###Report"
      ],
      "metadata": {
        "id": "vRf6lUbRDNvX"
      }
    },
    {
      "cell_type": "markdown",
      "source": [
        "<h1>Model Comparison: Accuracy, Jaccard Index, and F1 Score</h1>\n",
        "<p>Visualize and compare the performance of different models using a bar plot.</p>\n",
        "<p>The bar plot displays the scores of four models: Logistic Regression, K-Nearest Neighbors, Decision Tree, and Support Vector Machine.</p>\n",
        "<p>Three evaluation metrics are plotted for each model:</p>\n",
        "<ol>\n",
        "  <li><b>Accuracy Score:</b> Measures the overall accuracy of the model's predictions compared to the actual target values on the test data.</li>\n",
        "  <li><b>Jaccard Index:</b> Evaluates the similarity between the predicted and actual classes, reflecting the model's classification performance.</li>\n",
        "  <li><b>F1 Score:</b> Balances the trade-off between precision and recall, providing a harmonic mean of the two, indicating the model's overall performance.</li>\n",
        "</ol>\n",
        "<p>The bar plot provides a visual comparison of the model performances, allowing easy identification of the most effective model based on these evaluation metrics.</p>\n"
      ],
      "metadata": {
        "id": "nzIe8y_qDVbE"
      }
    },
    {
      "cell_type": "code",
      "source": [
        "import matplotlib.pyplot as plt\n",
        "models = ['Logistic Regression', 'K-Nearest Neighbors', 'Decision Tree', 'Support Vector Machine']\n",
        "accuracy_scores = [LR_Accuracy_Score, KNN_Accuracy_Score, Tree_Accuracy_Score, SVM_Accuracy_Score]\n",
        "jaccard_scores = [LR_JaccardIndex, KNN_JaccardIndex, Tree_JaccardIndex, SVM_JaccardIndex]\n",
        "f1_scores = [LR_F1_Score, KNN_F1_Score, Tree_F1_Score, SVM_F1_Score]\n",
        "plt.figure(figsize=(10, 6))\n",
        "plt.bar(models, accuracy_scores, width=0.2, label='Accuracy')\n",
        "plt.bar([str(x) + ' + 0.2' for x in models], jaccard_scores, width=0.2, label='Jaccard Index')\n",
        "plt.bar([str(x) + ' + 0.4' for x in models], f1_scores, width=0.2, label='F1 Score')\n",
        "plt.xlabel('Models')\n",
        "plt.ylabel('Scores')\n",
        "plt.title('Model Comparison: Accuracy, Jaccard Index, and F1 Score')\n",
        "plt.xticks(rotation=45)\n",
        "plt.legend()\n",
        "plt.tight_layout()\n",
        "plt.show()"
      ],
      "metadata": {
        "colab": {
          "base_uri": "https://localhost:8080/",
          "height": 607
        },
        "id": "XxMRH3CQDX0N",
        "outputId": "de542a7d-5ffa-43ed-e405-c37f34e702fc"
      },
      "execution_count": 22,
      "outputs": [
        {
          "output_type": "display_data",
          "data": {
            "text/plain": [
              "<Figure size 1000x600 with 1 Axes>"
            ],
            "image/png": "[encoded data removed]"
          },
          "metadata": {}
        }
      ]
    },
    {
      "cell_type": "markdown",
      "source": [
        "###Conclusion\n",
        "\n"
      ],
      "metadata": {
        "id": "Z2XB-FU3_oB6"
      }
    },
    {
      "cell_type": "markdown",
      "source": [
        "<p>This analysis is part of a peer assignment from the Coursera course, <i>\"Machine Learning with Python.\"</i></p>\n",
        "<p>The task involved exploring weather data, preprocessing it through one-hot encoding and binary replacement, and training various machine learning models like Logistic Regression, K-Nearest Neighbors (KNN), Decision Tree Classifier, and Support Vector Machine (SVM).</p>\n",
        "<p>Evaluation metrics such as Accuracy Score, Jaccard Index, F1 Score, and Log Loss were computed to assess the models' performance on the test data.</p>\n",
        "<p>The completion of this assignment demonstrates a practical understanding of Machine Learning concepts and their implementation in Python.</p>"
      ],
      "metadata": {
        "id": "jLwseu2M_r4t"
      }
    }
  ]
}